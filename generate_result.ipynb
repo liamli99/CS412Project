{
 "cells": [
  {
   "cell_type": "code",
   "execution_count": 1,
   "metadata": {},
   "outputs": [],
   "source": [
    "import numpy as np\n",
    "import pandas as pd\n",
    "import os\n",
    "from sklearn.feature_selection import chi2\n",
    "from scipy import stats\n",
    "from dataset import DataReader\n",
    "\n",
    "import matplotlib.pyplot as plt\n",
    "import seaborn as sns\n",
    "\n",
    "import warnings"
   ]
  },
  {
   "cell_type": "code",
   "execution_count": 2,
   "metadata": {},
   "outputs": [
    {
     "name": "stdout",
     "output_type": "stream",
     "text": [
      "Loading data/filtered_common_features/aml/clinical\n",
      "Loading data/filtered_common_features/aml/exp\n",
      "Loading data/filtered_common_features/aml/methy\n",
      "Loading data/filtered_common_features/aml/mirna\n",
      "Loading data/filtered_common_features/sarcoma/clinical\n",
      "Loading data/filtered_common_features/sarcoma/exp\n",
      "Loading data/filtered_common_features/sarcoma/methy\n",
      "Loading data/filtered_common_features/sarcoma/mirna\n",
      "************************************************\n",
      "Analysis for category: clinical\n",
      "************************************************\n",
      "\n",
      "fdd\n",
      "fdd\n",
      "Student T Test for clinical:\n",
      "Number of features with p value less than 0.05: 1\n",
      "Total number of features: 1 \n",
      "\n",
      "Chi_Square_Test for clinical:\n",
      "Number of features with p value less than 0.05: 4\n",
      "Total number of features: 6 \n",
      "\n",
      "Features with p value less than 0.05: Index(['gender_MALE', 'history_of_neoadjuvant_treatment_No',\n",
      "       'history_of_neoadjuvant_treatment_Yes', 'vital_status_DECEASED'],\n",
      "      dtype='object')\n",
      "continuous:[6.78002814e-05]\n",
      "discrete:[5.22150047e-02 5.22150047e-02 1.55544336e-16 1.55544336e-16\n",
      " 1.06786393e-09 1.06786393e-09]\n"
     ]
    }
   ],
   "source": [
    "from processor import Processor\n",
    "data_path_list = [\"data/filtered_common_features/aml\", \"data/filtered_common_features/sarcoma\",]\n",
    "processor = Processor(data_path_list)\n",
    "\n",
    "for name in ['clinical', ]:\n",
    "    print(\"************************************************\")\n",
    "    print(\"Analysis for category:\", name)\n",
    "    print(\"************************************************\\n\")\n",
    "\n",
    "    # normality_results = processor.norm_evaluation(name)\n",
    "    processor.normalize(name, row_names=['age_at_initial_pathologic_diagnosis'])\n",
    "    pvalue = processor.Student_T_Test(name, row_names=['age_at_initial_pathologic_diagnosis'])\n",
    "    p_values = processor.Chi_Square_Test(name, row_names=['gender_FEMALE', 'gender_MALE', \\\n",
    "                                'history_of_neoadjuvant_treatment_No', 'history_of_neoadjuvant_treatment_Yes', \\\n",
    "                                'vital_status_DECEASED', 'vital_status_LIVING'])\n",
    "    print(f\"continuous:{pvalue}\")\n",
    "    print(f\"discrete:{p_values}\")"
   ]
  }
 ],
 "metadata": {
  "kernelspec": {
   "display_name": "Pytorch",
   "language": "python",
   "name": "python3"
  },
  "language_info": {
   "codemirror_mode": {
    "name": "ipython",
    "version": 3
   },
   "file_extension": ".py",
   "mimetype": "text/x-python",
   "name": "python",
   "nbconvert_exporter": "python",
   "pygments_lexer": "ipython3",
   "version": "3.8.13"
  }
 },
 "nbformat": 4,
 "nbformat_minor": 2
}
